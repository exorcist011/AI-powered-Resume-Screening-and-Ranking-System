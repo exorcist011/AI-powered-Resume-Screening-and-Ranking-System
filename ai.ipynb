# Import libraries
import pandas as pd
import spacy
from sklearn.feature_extraction.text import TfidfVectorizer
from sklearn.metrics.pairwise import cosine_similarity
from sklearn.linear_model import LogisticRegression
from sklearn.model_selection import train_test_split
import re
